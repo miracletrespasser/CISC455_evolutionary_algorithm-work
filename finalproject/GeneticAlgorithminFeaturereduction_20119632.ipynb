{
  "cells": [
    {
      "cell_type": "code",
      "execution_count": 286,
      "metadata": {
        "id": "b7e6a263"
      },
      "outputs": [],
      "source": [
        "import numpy as np\n",
        "import matplotlib.pyplot as plt\n",
        "from sklearn.model_selection import train_test_split\n",
        "from sklearn.datasets import load_iris"
      ],
      "id": "b7e6a263"
    },
    {
      "cell_type": "markdown",
      "source": [
        "Kohenen Network *Course work from CISC452 A3*\n",
        "Train a neural network consisting of 4 features\n"
      ],
      "metadata": {
        "id": "Bw032YhRpMKr"
      },
      "id": "Bw032YhRpMKr"
    },
    {
      "cell_type": "code",
      "execution_count": 287,
      "metadata": {
        "colab": {
          "base_uri": "https://localhost:8080/"
        },
        "id": "3a19bd78",
        "outputId": "b12e162b-3058-46c0-8cbe-5b159042cb9b"
      },
      "outputs": [
        {
          "output_type": "execute_result",
          "data": {
            "text/plain": [
              "(['sepal length (cm)',\n",
              "  'sepal width (cm)',\n",
              "  'petal length (cm)',\n",
              "  'petal width (cm)'],\n",
              " array(['setosa', 'versicolor', 'virginica'], dtype='<U10'))"
            ]
          },
          "metadata": {},
          "execution_count": 287
        }
      ],
      "source": [
        "data = load_iris()\n",
        "x = data.data\n",
        "x = (x - x.mean(axis=0)) / x.std(axis=0)\n",
        "y = data.target\n",
        "data.feature_names, data.target_names"
      ],
      "id": "3a19bd78"
    },
    {
      "cell_type": "code",
      "execution_count": 288,
      "metadata": {
        "colab": {
          "base_uri": "https://localhost:8080/"
        },
        "id": "06c93a78",
        "outputId": "1c4d446a-a942-4f74-bdd5-7193108785eb"
      },
      "outputs": [
        {
          "output_type": "execute_result",
          "data": {
            "text/plain": [
              "((120, 4), (30, 4), (120,), (30,))"
            ]
          },
          "metadata": {},
          "execution_count": 288
        }
      ],
      "source": [
        "x_train, x_test, y_train, y_test = train_test_split(x, y, test_size=0.2, random_state=3)\n",
        "x_train.shape, x_test.shape, y_train.shape, y_test.shape"
      ],
      "id": "06c93a78"
    },
    {
      "cell_type": "code",
      "execution_count": 289,
      "metadata": {
        "id": "d236745e"
      },
      "outputs": [],
      "source": [
        "def evaluator(y_test, y_pred):\n",
        "    ####################################################################################################\n",
        "    # enter code here to implement the evaluation matrices including confusion matrix and accuracy\n",
        "    # You can only use Numpy here\n",
        "    cell1,cell2,cell3,cell4,cell5,cell6,cell7,cell8,cell9=0,0,0,0,0,0,0,0,0\n",
        "    for yt,yp in zip(y_test,y_pred):\n",
        "        if yt==0 and yp==0 :\n",
        "            cell1+=1\n",
        "        if yt==0 and yp==1:\n",
        "            cell2+=1\n",
        "        if yt==0 and yp==2:\n",
        "            cell3+=1\n",
        "        if yt==1 and yp==0 :\n",
        "            cell4+=1\n",
        "        if yt==1 and yp==1:\n",
        "            cell5+=1\n",
        "        if yt==1 and yp==2:\n",
        "            cell6+=1\n",
        "        if yt==2 and yp==0 :\n",
        "            cell7+=1\n",
        "        if yt==2 and yp==1:\n",
        "            cell8+=1\n",
        "        if yt==2 and yp==2:\n",
        "            cell9+=1\n",
        "    confusion_matrix=np.array(([cell1,cell2,cell3],[cell4,cell5,cell6],[cell7,cell8,cell9]))\n",
        "    sum=cell1+cell2+cell3+cell4+cell5+cell6+cell7+cell8+cell9\n",
        "    Class_0_accuracy=(cell1+cell5+cell6+cell8+cell9)/sum\n",
        "    Class_1_accuracy=(cell5+cell1+cell7+cell3+cell9)/sum\n",
        "    Class_2_accuracy=(cell9+cell1+cell2+cell4+cell5)/sum\n",
        "    #print('The confusion matrix is:')\n",
        "    #print(confusion_matrix)\n",
        "    #print('Class 0 accuracy:'+str(Class_0_accuracy))\n",
        "    #print('Class 1 accuracy:'+str(Class_1_accuracy))\n",
        "    #print('Class 2 accuracy:'+str(Class_2_accuracy))\n",
        "    return (Class_0_accuracy+Class_1_accuracy+Class_2_accuracy)/3\n",
        "\n",
        "    ####################################################################################################"
      ],
      "id": "d236745e"
    },
    {
      "cell_type": "code",
      "execution_count": 290,
      "metadata": {
        "colab": {
          "base_uri": "https://localhost:8080/"
        },
        "id": "8cacb4f0",
        "outputId": "6add6eeb-87dd-4f1c-a658-0d04e2f022ab"
      },
      "outputs": [
        {
          "output_type": "execute_result",
          "data": {
            "text/plain": [
              "0.39999999999999997"
            ]
          },
          "metadata": {},
          "execution_count": 290
        }
      ],
      "source": [
        "# build a baseline model with K-Means\n",
        "from sklearn.cluster import KMeans\n",
        "km = KMeans(n_clusters=3) #n_clusters - the number of clusters\n",
        "km.fit(x_train)\n",
        "y_pred = km.predict(x_train)\n",
        "evaluator(y_train, y_pred)\n",
        "y_pred = km.predict(x_test)\n",
        "evaluator(y_test, y_pred)\n",
        "# there are often times that the confusion matrix of this model doesn't show correctly\n",
        "#should be labeling the cluser wrong in some special cases, \n",
        "#like the centroid of 0 in this case turns out to be centroid of 1 in the actual value"
      ],
      "id": "8cacb4f0"
    },
    {
      "cell_type": "markdown",
      "metadata": {
        "id": "4e4a6b06"
      },
      "source": [
        "## Simple Competitive Learning"
      ],
      "id": "4e4a6b06"
    },
    {
      "cell_type": "code",
      "execution_count": 291,
      "metadata": {
        "id": "29d82a53"
      },
      "outputs": [],
      "source": [
        "####################################################################################################\n",
        "# enter code here to build the Kohonen Network with Maxnet\n",
        "class Kohonen(object):\n",
        "    def __init__(self,initial,iteration):\n",
        "        self.initial=initial #centroids and their coordinate, shape(3,4)\n",
        "        self.iteration=iteration #integer\n",
        "        self.history=[]\n",
        "    def euclidean(self,item1,item2): #first layer to hidden layer activation function\n",
        "        sum=0\n",
        "        for i in zip(item1,item2):\n",
        "          sum+=np.square(i[0]-i[1])\n",
        "        return np.sqrt(sum)\n",
        "    #train the initial weights\n",
        "    def train(self , x,y, learning_rate=0.5):\n",
        "        num_elements=x.shape[0]\n",
        "        for j in range(self.iteration):\n",
        "          #loop over all the elements in x\n",
        "          d_w=[0.1 for i in range(x.shape[1])]\n",
        "          for i in range(num_elements):\n",
        "            #adjustment to the learning rate\n",
        "            minimal_distance =10000\n",
        "            for k in range(len(self.initial)):# get the winning node in maxnet\n",
        "              distance = self.euclidean(self.initial[k],x[i])#first layer calculation\n",
        "              if distance < minimal_distance:\n",
        "                minimal_distance = distance\n",
        "                winning_node_index = k\n",
        "            winning_node = self.initial[winning_node_index]\n",
        "            #update weight change\n",
        "            for a in range(len(d_w)):\n",
        "              d_w[a] = learning_rate * (x[i][a] - winning_node[a]) \n",
        "            # update weights\n",
        "            self.initial[winning_node_index] = np.add(winning_node, d_w)\n",
        "          #print(\"Iteration done:\"+str(j+1))\n",
        "          #print(\"Centroids: \"+str(self.initial))\n",
        "          acc = (self.predict(x) == y).sum()/num_elements\n",
        "          self.history.append(acc)\n",
        "          #print(\"Accuracy:\"+str(acc))\n",
        "        return self.initial\n",
        "    def predict(self,x):\n",
        "        elements_num=x.shape[0]\n",
        "        y_pred=np.zeros(x.shape[0])\n",
        "        for i in range(elements_num):\n",
        "          minimal_distance=10000\n",
        "          for k in range(len(self.initial)):# get the winning node in maxnet\n",
        "            distance = self.euclidean(self.initial[k],x[i])#first layer calculation\n",
        "            if distance < minimal_distance:\n",
        "              minimal_distance = distance\n",
        "              winning_node_index = k\n",
        "              y_pred[i]=k \n",
        "        return y_pred\n",
        "    \n",
        "\n",
        "\n",
        "####################################################################################################"
      ],
      "id": "29d82a53"
    },
    {
      "cell_type": "code",
      "execution_count": 292,
      "metadata": {
        "colab": {
          "base_uri": "https://localhost:8080/"
        },
        "id": "8773264b",
        "outputId": "f6129625-aa6f-482a-9ff4-46a9aed734b9"
      },
      "outputs": [
        {
          "output_type": "execute_result",
          "data": {
            "text/plain": [
              "[array([-0.99377882,  0.82708883, -1.3139642 , -1.30273419]),\n",
              " array([ 0.2127703 , -0.5201684 ,  0.75084178,  0.83154966]),\n",
              " array([0.684312  , 0.39488866, 0.9094604 , 1.36632955])]"
            ]
          },
          "metadata": {},
          "execution_count": 292
        }
      ],
      "source": [
        "####################################################################################################\n",
        "# enter code here to train and test the Kohonen Network\n",
        "input=[[-1, -0, -1,-1 ],\n",
        "    [0, 0, 0, 0],\n",
        "    [0, 0, 1, 2]]\n",
        "model=Kohonen(input,10)\n",
        "model.train(x,y)\n",
        "\n",
        "####################################################################################################"
      ],
      "id": "8773264b"
    },
    {
      "cell_type": "code",
      "execution_count": 293,
      "metadata": {
        "id": "7yXbmiRJj06v"
      },
      "outputs": [],
      "source": [
        "AverageAccuracy=evaluator(model.predict(x),y)"
      ],
      "id": "7yXbmiRJj06v"
    },
    {
      "cell_type": "code",
      "source": [
        "AverageAccuracy"
      ],
      "metadata": {
        "colab": {
          "base_uri": "https://localhost:8080/"
        },
        "id": "L7NhLtTCrWbD",
        "outputId": "9335b6f9-5888-42b4-f6c5-ca6bd97c4ae2"
      },
      "id": "L7NhLtTCrWbD",
      "execution_count": 294,
      "outputs": [
        {
          "output_type": "execute_result",
          "data": {
            "text/plain": [
              "0.8799999999999999"
            ]
          },
          "metadata": {},
          "execution_count": 294
        }
      ]
    },
    {
      "cell_type": "markdown",
      "metadata": {
        "id": "dc90cf0e"
      },
      "source": [
        "## Principle Component Analysis"
      ],
      "id": "dc90cf0e"
    },
    {
      "cell_type": "code",
      "execution_count": 295,
      "metadata": {
        "id": "396825d9"
      },
      "outputs": [],
      "source": [
        "####################################################################################################\n",
        "# enter code here to build the PCA model\n",
        "class PCA(object):\n",
        "    def __init__(self,iteration):\n",
        "      #initialize with some random value\n",
        "      self.w=np.array([[0.25,0.25,0.25,0.25],[0.25,0.25,0.25,0.25],[0.25,0.25,0.25,0.25]])\n",
        "      self.iteration=iteration\n",
        "    def train(self,x,learning_rate=0.0001):\n",
        "      #normalization\n",
        "      mean_value=np.mean(x,axis=0)\n",
        "      normalized_data=x-mean_value\n",
        "      for iter in range(self.iteration):\n",
        "        for n in range(normalized_data.shape[0]):\n",
        "          #initialize y\n",
        "          y=[0 for h in range(3)]\n",
        "          #calculate output\n",
        "          for j in range(3):\n",
        "            residual=0\n",
        "            y[j]=np.dot(normalized_data[n],self.w[j])\n",
        "            for k in range(j):\n",
        "              residual+=sum(np.dot(y[j],self.w[k]))\n",
        "            #update weights according to output\n",
        "            for i in range(len(self.w[0])):\n",
        "              self.w[j][i] += learning_rate*y[j]*(normalized_data[n][i]-residual)\n",
        "      return 0\n",
        "    #trim the data\n",
        "    def predict(self,x):\n",
        "      sum_weights=self.w.sum(axis=0)\n",
        "      max=0\n",
        "      column_to_be_cut=0\n",
        "      for i in range(len(sum_weights)):\n",
        "        if sum_weights[i]>max:\n",
        "          max=sum_weights[i]\n",
        "          column_to_be_cut=i\n",
        "      edited_array=x.copy()\n",
        "      edited_array=np.delete(edited_array,[i],1)\n",
        "      print(\"Cut off column:\",column_to_be_cut)\n",
        "      return edited_array\n",
        "\n",
        "####################################################################################################"
      ],
      "id": "396825d9"
    },
    {
      "cell_type": "markdown",
      "source": [
        "Principal component Analysis network"
      ],
      "metadata": {
        "id": "MwkzpM62qMBj"
      },
      "id": "MwkzpM62qMBj"
    },
    {
      "cell_type": "code",
      "execution_count": 296,
      "metadata": {
        "colab": {
          "base_uri": "https://localhost:8080/"
        },
        "id": "3e567f44",
        "outputId": "e687f482-9883-467e-b581-c2ad1e3ee86a"
      },
      "outputs": [
        {
          "output_type": "stream",
          "name": "stdout",
          "text": [
            "Cut off column: 2\n",
            "PCA time:\n",
            "--- 0.3638625144958496 seconds ---\n"
          ]
        }
      ],
      "source": [
        "####################################################################################################\n",
        "# enter code here to train the PCA model and obtain the new train and test datasets\n",
        "import time\n",
        "start_time = time.time()\n",
        "pca=PCA(50)\n",
        "pca.train(x)\n",
        "#gengerate new dataset\n",
        "x_3=pca.predict(x)\n",
        "#print('Final weight is:\\n', pca.w)\n",
        "print('PCA time:')\n",
        "print(\"--- %s seconds ---\" % (time.time() - start_time))\n",
        "####################################################################################################"
      ],
      "id": "3e567f44"
    },
    {
      "cell_type": "markdown",
      "source": [
        "Genetic Algorithm for feature reduction"
      ],
      "metadata": {
        "id": "rZJlJ_5FmYcs"
      },
      "id": "rZJlJ_5FmYcs"
    },
    {
      "cell_type": "code",
      "source": [
        "#initialize parameters\n",
        "import itertools\n",
        "import random\n",
        "def initialization(num_feature):\n",
        "  population=[]\n",
        "  #Population generation\n",
        "  for i in range(2,num_feature):\n",
        "    temp_pop=[]\n",
        "    for k in range(i):\n",
        "      temp_pop.append(1)\n",
        "    while len(temp_pop)<num_feature:\n",
        "      temp_pop.append(0)\n",
        "    all_permutation=list(itertools.permutations(temp_pop))\n",
        "    random.shuffle(all_permutation)\n",
        "    population.append(all_permutation[0])\n",
        "    population.append(all_permutation[1])\n",
        "  #represent each individual in binary\n",
        "  #forexample,1110 means the first three features are kept and the latter one is reduced\n",
        "  #return population\n",
        "  random.shuffle(population)\n",
        "  return population"
      ],
      "metadata": {
        "id": "uDAoXDOSmXBy"
      },
      "id": "uDAoXDOSmXBy",
      "execution_count": 297,
      "outputs": []
    },
    {
      "cell_type": "code",
      "source": [
        "#fitnessevaluation function\n",
        "def fitnessevaluation(binary_feature,input_x,y):\n",
        "  #binary_feature:individual from population\n",
        "  #input_x: input data set\n",
        "  # y: target dataset\n",
        "  #the default centroid could switch to another value in another classification model\n",
        "  #for this specific model,there are 2 conditions that require attention\n",
        "  #the default centroid will be 2*3 column*row if 2 features are reduced\n",
        "  #will be 3*3 column*row if 1 features is reduced\n",
        "  \n",
        "  edit_input=input_x.copy()\n",
        "  feature_reduced=[i for i, x in enumerate(binary_feature) if x == 0]\n",
        "  #manually set the centroids\n",
        "  if len(feature_reduced)==2:\n",
        "    centroid=[[-1, 0],\n",
        "    [1, 0],\n",
        "    [0, 0]]\n",
        "  else:\n",
        "    centroid=[[-1, -1, -1 ],\n",
        "    [1, 0, 0],\n",
        "    [0, 1, 2]]\n",
        "  #reduce the feature column\n",
        "  edited_array=np.delete(edit_input,feature_reduced,1)\n",
        "  model1=Kohonen(centroid,10)\n",
        "  model1.train(edited_array,y)\n",
        "  Average_Accuracy=evaluator(model1.predict(edited_array),y)\n",
        "  #return average accuracy as fitness evaluation\n",
        "  return Average_Accuracy"
      ],
      "metadata": {
        "id": "nX_XKZ2Indum"
      },
      "id": "nX_XKZ2Indum",
      "execution_count": 298,
      "outputs": []
    },
    {
      "cell_type": "code",
      "source": [
        "#Multipointer selection\n",
        "#it is used to make each population get some chance to be selected\n",
        "def MPS_parent_selection(population,fitness_score):\n",
        "  #reused code from Assignment1\n",
        "  parents=[]\n",
        "  fitness_sum=sum(fitness_score)\n",
        "  length=len(fitness_score)\n",
        "  Cumulative=0\n",
        "  Cumulative_probability_distribution=[]\n",
        "  for i in range(0,length):\n",
        "    Cumulative+=fitness_score[i]\n",
        "    Cumulative_probability_distribution.append(float(Cumulative/fitness_sum))\n",
        "  #generate multi-pionter selection\n",
        "  current_number=0\n",
        "  i=0\n",
        "  r= random.uniform(0,1/2)\n",
        "  while(current_number<2):\n",
        "    while(r<=Cumulative_probability_distribution[i]):\n",
        "      parents.append(i)\n",
        "      r+=float(1/2)\n",
        "      current_number+=1\n",
        "    i+=1\n",
        "  #return the number of parents selected from the population\n",
        "  return parents[0],parents[1]"
      ],
      "metadata": {
        "id": "N3KIG2irtE_8"
      },
      "id": "N3KIG2irtE_8",
      "execution_count": 299,
      "outputs": []
    },
    {
      "cell_type": "code",
      "source": [
        "#select the best 2 parents to mate\n",
        "def Best_selection(population,fitness_score):\n",
        "  unsorted=[]\n",
        "  #combine the individual with its fitness score\n",
        "  for x,y in zip(population,fitness_score):\n",
        "    unsorted.append([y,x])\n",
        "  unsorted.sort(reverse=True)\n",
        "  parent1=unsorted[0][1]\n",
        "  parent2=unsorted[1][1]\n",
        "  return parent1,parent2"
      ],
      "metadata": {
        "id": "qsuDYjuDinNt"
      },
      "id": "qsuDYjuDinNt",
      "execution_count": 300,
      "outputs": []
    },
    {
      "cell_type": "code",
      "source": [
        "#Crossover\n",
        "def uniform_crossover(p1,p2):\n",
        "  #randomly generate 2 positions of p1 and exchange with p2\n",
        "  #\n",
        "  new_population=[]\n",
        "  while len(new_population)<4:\n",
        "    parent_1=list(p1).copy()\n",
        "    parent_2=list(p2).copy()\n",
        "    listindex=[0,1,2,3]\n",
        "    replacement=random.sample(range(0,4),2)\n",
        "    #generate offspring2\n",
        "    parent_2[replacement[0]]=parent_1[replacement[0]]\n",
        "    parent_2[replacement[1]]=parent_1[replacement[1]]\n",
        "    #generate offspring1\n",
        "    listindex.remove(replacement[0])\n",
        "    listindex.remove(replacement[1])\n",
        "    parent_1[listindex[0]]=parent_2[listindex[0]]\n",
        "    parent_1[listindex[1]]=parent_2[listindex[1]]\n",
        "    #I choose not to do a recombination since it could be done by mutation\n",
        "    new_population.append(parent_1)\n",
        "    new_population.append(parent_2)\n",
        "  return new_population"
      ],
      "metadata": {
        "id": "vXrV0pp4hoEv"
      },
      "id": "vXrV0pp4hoEv",
      "execution_count": 301,
      "outputs": []
    },
    {
      "cell_type": "code",
      "source": [
        "#bit flopping and exchanging mutation\n",
        "def mutation(p):\n",
        "  #75% chance for bit flopping\n",
        "  #25% chance for position swapping\n",
        "  new_population=[]\n",
        "  for x in p:\n",
        "    k=x.copy()\n",
        "    r=random.randrange(0,4)\n",
        "    if r:\n",
        "      position=random.randrange(0,4)\n",
        "      if k[position]:\n",
        "        k[position]=0\n",
        "      else:\n",
        "        k[position]=1\n",
        "    else:\n",
        "      replacement=random.sample(range(0,4),2)\n",
        "      temp1=k[replacement[0]]\n",
        "      temp2=k[replacement[1]]\n",
        "      k[replacement[0]]=temp2\n",
        "      k[replacement[1]]=temp1\n",
        "    #check for the final outcome\n",
        "    #if less than 2 feature selected\n",
        "    if k.count(1)<2:\n",
        "      #50% chance to mutate to 2 features, 50% chance to mutate to 3 features\n",
        "      r=random.randrange(0,2)\n",
        "      feature_reduced=[a for a, b in enumerate(k) if b == 0]\n",
        "      while k.count(1)<2+r:\n",
        "        random.shuffle(feature_reduced)\n",
        "        k[feature_reduced[0]]=1\n",
        "        feature_reduced.pop(0)\n",
        "    #if full selection has occured\n",
        "    elif k.count(1)>3:\n",
        "      #50% chance to mutate to 2 features, 50% chance to mutate to 3 features\n",
        "      r=random.randrange(0,2)\n",
        "      replacement=random.sample(range(0,4),1+r)\n",
        "      for n in replacement:\n",
        "        k[n]=0\n",
        "    new_population.append(k)\n",
        "  return new_population"
      ],
      "metadata": {
        "id": "dHuq3NZc1FlE"
      },
      "id": "dHuq3NZc1FlE",
      "execution_count": 302,
      "outputs": []
    },
    {
      "cell_type": "code",
      "source": [
        "#survivor selection: all offsprings form a new population"
      ],
      "metadata": {
        "id": "PCkxhmAP6cXq"
      },
      "id": "PCkxhmAP6cXq",
      "execution_count": 303,
      "outputs": []
    },
    {
      "cell_type": "code",
      "source": [
        "#The main program\n",
        "def genetic(OriginalAccuracy,x_1,y_1):\n",
        "  optimumAccuracy=0\n",
        "  selectedAccuracy=-100\n",
        "  AccuracyHistory=[]\n",
        "  optimumSelection=[]\n",
        "  continuous_counter=0\n",
        "  step=0\n",
        "  generation=initialization(4)\n",
        "  MoreAccuracy=[]\n",
        "  for i in range(len(generation)):\n",
        "    MoreAccuracy.append(fitnessevaluation(generation[i],x_1,y_1))\n",
        "  #loop until the optimum Accuracy stabilizes around one value\n",
        "  while not(OriginalAccuracy-0.01<optimumAccuracy and optimumAccuracy>=selectedAccuracy) or continuous_counter<5:\n",
        "    step+=1 \n",
        "    r=random.randrange(0,2)\n",
        "    #50% for MPS and 50% for best selection\n",
        "    if r:\n",
        "      parent1,parent2=MPS_parent_selection(generation,MoreAccuracy)\n",
        "      parent3=generation[parent1]\n",
        "      parent4=generation[parent2]\n",
        "    else:\n",
        "      parent3,parent4=Best_selection(generation,MoreAccuracy)\n",
        "    n_p=uniform_crossover(parent3,parent4)\n",
        "    m_p=mutation(n_p)\n",
        "    generation=m_p.copy()\n",
        "    MoreAccuracy=[]\n",
        "    for i in range(len(generation)):\n",
        "      MoreAccuracy.append(fitnessevaluation(generation[i],x_1,y_1))\n",
        "    selectedAccuracy=max(MoreAccuracy)\n",
        "    selectedindividual=generation[MoreAccuracy.index(selectedAccuracy)]\n",
        "    if selectedAccuracy>optimumAccuracy:\n",
        "      optimumAccuracy=selectedAccuracy\n",
        "      optimumSelection=selectedindividual.copy()\n",
        "      continuous_counter=0\n",
        "    else:\n",
        "      continuous_counter+=1\n",
        "    AccuracyHistory.append(optimumAccuracy-OriginalAccuracy+0.01)\n",
        "    #you may enable those options to see the track of training but it may consume more time\n",
        "    #doesn't matter if you don't mind to add one or two seconds\n",
        "    #print(\"Step:\", step)\n",
        "    #print(generation)\n",
        "    #print(optimumAccuracy)\n",
        "    #print(selectedAccuracy)\n",
        "    #print(optimumSelection)\n",
        "  return optimumSelection,optimumAccuracy,AccuracyHistory,step"
      ],
      "metadata": {
        "id": "9tY41xx2pJTd"
      },
      "id": "9tY41xx2pJTd",
      "execution_count": 304,
      "outputs": []
    },
    {
      "cell_type": "code",
      "source": [
        "start_time = time.time()\n",
        "result,accuracy,history,steps=genetic(AverageAccuracy,x,y)\n",
        "print('Genetic algorithm time')\n",
        "print(\"--- %s seconds ---\" % (time.time() - start_time))"
      ],
      "metadata": {
        "colab": {
          "base_uri": "https://localhost:8080/"
        },
        "id": "qFZHkuG9CSi0",
        "outputId": "caa00672-83e4-4b0d-a8de-6af5cd8e43ea"
      },
      "id": "qFZHkuG9CSi0",
      "execution_count": 305,
      "outputs": [
        {
          "output_type": "stream",
          "name": "stdout",
          "text": [
            "Genetic algorithm time\n",
            "--- 6.025686264038086 seconds ---\n"
          ]
        }
      ]
    },
    {
      "cell_type": "code",
      "source": [
        "plt.plot(history, label='RelativeAccuracy')\n",
        "plt.legend()\n",
        "plt.show()"
      ],
      "metadata": {
        "colab": {
          "base_uri": "https://localhost:8080/",
          "height": 265
        },
        "id": "0voN-DpBLbv8",
        "outputId": "cfc01b7e-7738-43a0-fe3e-b89dd59ae212"
      },
      "id": "0voN-DpBLbv8",
      "execution_count": 306,
      "outputs": [
        {
          "output_type": "display_data",
          "data": {
            "image/png": "[encoded data removed]",
            "text/plain": [
              "<Figure size 432x288 with 1 Axes>"
            ]
          },
          "metadata": {
            "needs_background": "light"
          }
        }
      ]
    },
    {
      "cell_type": "code",
      "source": [
        "#using bruteforce for all possible outcomes of feature selection\n",
        "def bruteforce(num_feature,x_2,y_2):\n",
        "  all_possiblity=[]\n",
        "  Optimumfitness=0\n",
        "  Optimumselection=[]\n",
        "  for i in range(2,num_feature):\n",
        "    temp_pop=[]\n",
        "    for k in range(i):\n",
        "      temp_pop.append(1)\n",
        "    while len(temp_pop)<num_feature:\n",
        "      temp_pop.append(0)\n",
        "    all_permutation=list(itertools.permutations(temp_pop))\n",
        "    all_possiblity=all_possiblity+all_permutation\n",
        "  for item in all_possiblity:\n",
        "    currentf=fitnessevaluation(item,x_2,y_2)\n",
        "    if currentf>Optimumfitness:\n",
        "      Optimumfitness=currentf\n",
        "      Optimumselection=item.copy()\n",
        "  return Optimumfitness,Optimumselection"
      ],
      "metadata": {
        "id": "FatQAU6NDqEf"
      },
      "id": "FatQAU6NDqEf",
      "execution_count": 307,
      "outputs": []
    },
    {
      "cell_type": "code",
      "source": [
        "'''\n",
        "start_time = time.time()\n",
        "bf_accuracy,bf_result=genetic(4,x,y)\n",
        "print('Bruteforce time')\n",
        "print(\"--- %s seconds ---\" % (time.time() - start_time))\n",
        "#I interrupted the execution of it since it is definitely longer than 6 seconds, it goes for over 4 minutes and non stop\n",
        "'''"
      ],
      "metadata": {
        "colab": {
          "base_uri": "https://localhost:8080/",
          "height": 53
        },
        "id": "YDDpmZeIJYHC",
        "outputId": "1d1ba765-fa26-4683-fea1-af8efcec3e52"
      },
      "id": "YDDpmZeIJYHC",
      "execution_count": 308,
      "outputs": [
        {
          "output_type": "execute_result",
          "data": {
            "application/vnd.google.colaboratory.intrinsic+json": {
              "type": "string"
            },
            "text/plain": [
              "'\\nstart_time = time.time()\\nbf_accuracy,bf_result=genetic(4,x,y)\\nprint(\\'Bruteforce time\\')\\nprint(\"--- %s seconds ---\" % (time.time() - start_time))\\n#I interrupted the execution of it since it is definitely longer than 6 seconds, it goes for over 4 minutes and non stop\\n'"
            ]
          },
          "metadata": {},
          "execution_count": 308
        }
      ]
    }
  ],
  "metadata": {
    "accelerator": "GPU",
    "colab": {
      "collapsed_sections": [],
      "name": "GeneticAlgorithminFeaturereduction_20119632.ipynb",
      "provenance": []
    },
    "kernelspec": {
      "display_name": "Python 3",
      "language": "python",
      "name": "python3"
    },
    "language_info": {
      "codemirror_mode": {
        "name": "ipython",
        "version": 3
      },
      "file_extension": ".py",
      "mimetype": "text/x-python",
      "name": "python",
      "nbconvert_exporter": "python",
      "pygments_lexer": "ipython3",
      "version": "3.7.0"
    }
  },
  "nbformat": 4,
  "nbformat_minor": 5
}